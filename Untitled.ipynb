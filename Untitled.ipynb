{
 "cells": [
  {
   "cell_type": "code",
   "execution_count": 1,
   "id": "a5ebfcb3-63e7-418f-9820-6916dffa7efe",
   "metadata": {},
   "outputs": [
    {
     "name": "stdout",
     "output_type": "stream",
     "text": [
      "2024-12-06 03:03:48 - PyTorch version 2.2.1+cu121 available.\n",
      "[INFO] Using attention implementation: sdpa\n",
      "[INFO] Using model_id: meta-llama/Meta-Llama-3-8B-Instruct\n",
      "Loading checkpoint shards:   0%|                          | 0/4 [00:00<?, ?it/s]^C\n"
     ]
    }
   ],
   "source": [
    "!chainlit run app.py"
   ]
  },
  {
   "cell_type": "code",
   "execution_count": null,
   "id": "846ef35b-b095-4572-b786-79120994ade2",
   "metadata": {},
   "outputs": [],
   "source": []
  }
 ],
 "metadata": {
  "kernelspec": {
   "display_name": "Python 3",
   "language": "python",
   "name": "python3"
  },
  "language_info": {
   "codemirror_mode": {
    "name": "ipython",
    "version": 3
   },
   "file_extension": ".py",
   "mimetype": "text/x-python",
   "name": "python",
   "nbconvert_exporter": "python",
   "pygments_lexer": "ipython3",
   "version": "3.10.10"
  }
 },
 "nbformat": 4,
 "nbformat_minor": 5
}
