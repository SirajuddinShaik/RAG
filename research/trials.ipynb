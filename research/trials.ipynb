{
 "cells": [
  {
   "cell_type": "code",
   "execution_count": 1,
   "metadata": {},
   "outputs": [
    {
     "data": {
      "text/plain": [
       "'hlo'"
      ]
     },
     "execution_count": 1,
     "metadata": {},
     "output_type": "execute_result"
    }
   ],
   "source": [
    "\"hlo\""
   ]
  },
  {
   "cell_type": "code",
   "execution_count": 2,
   "metadata": {},
   "outputs": [
    {
     "name": "stdout",
     "output_type": "stream",
     "text": [
      "[INFO] Using attention implementation: sdpa\n",
      "[INFO] Using model_id: meta-llama/Meta-Llama-3-8B-Instruct\n"
     ]
    },
    {
     "name": "stderr",
     "output_type": "stream",
     "text": [
      "Special tokens have been added in the vocabulary, make sure the associated word embeddings are fine-tuned or trained.\n"
     ]
    },
    {
     "data": {
      "application/vnd.jupyter.widget-view+json": {
       "model_id": "308da6c71e2c4277b7aa1d3ab1dfd67f",
       "version_major": 2,
       "version_minor": 0
      },
      "text/plain": [
       "Loading checkpoint shards:   0%|          | 0/4 [00:00<?, ?it/s]"
      ]
     },
     "metadata": {},
     "output_type": "display_data"
    }
   ],
   "source": [
    "from RAG.components.model import get_model\n",
    "\n",
    "\n",
    "model = get_model()\n",
    "\n"
   ]
  },
  {
   "cell_type": "code",
   "execution_count": null,
   "metadata": {},
   "outputs": [],
   "source": [
    "print(model.config)\n",
    "print(model)\n",
    "\n",
    "# Access and print the transformer encoder layers\n",
    "transformer_layers = model.encoder.layer\n",
    "print(f\"Number of encoder layers: {len(transformer_layers)}\")\n",
    "\n",
    "for i, layer in enumerate(transformer_layers):\n",
    "    print(f\"Layer {i}: {layer}\")\n",
    "\n",
    "# Accessing specific components of the first layer\n",
    "first_layer = transformer_layers[0]\n",
    "attention = first_layer.attention.self\n",
    "feed_forward = first_layer.intermediate\n",
    "\n",
    "print(f\"First layer attention: {attention}\")\n",
    "print(f\"First layer feed-forward: {feed_forward}\")\n",
    "\n",
    "# Print the embedding layer\n",
    "embedding_layer = model.embeddings\n",
    "print(f\"Embedding layer: {embedding_layer}\")"
   ]
  }
 ],
 "metadata": {
  "language_info": {
   "name": "python"
  }
 },
 "nbformat": 4,
 "nbformat_minor": 2
}
